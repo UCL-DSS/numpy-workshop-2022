{
 "cells": [
  {
   "cell_type": "markdown",
   "metadata": {},
   "source": [
    "## Data Science Society Workshop 3: Numpy Problems\n",
    "Run this code cell before attempting the problems!"
   ]
  },
  {
   "cell_type": "code",
   "execution_count": null,
   "metadata": {},
   "outputs": [],
   "source": [
    "# Imports Numpy module\n",
    "import numpy as np"
   ]
  },
  {
   "cell_type": "markdown",
   "metadata": {},
   "source": [
    "\n",
    "#### 1) Debug array generation\n",
    "I want to output the following:\n",
    "\n",
    "$$[0,4,8,5]$$\n",
    "\n",
    "$$[0,0.1,0.2,0.3,0.4,... ,9.6 ,9.7 ,9.8 ,9.9 ,10]$$\n",
    "\n",
    "and\n",
    "\n",
    "$$\n",
    "\\begin{bmatrix} \n",
    "0 & 0 & 0& 0 \\\\\n",
    "0 & 0 & 0& 0 \\\\0 & 0 & 0& 0 \\\\\n",
    "\\end{bmatrix}\n",
    "$$\n",
    "\n",
    "Can you help debug my code?"
   ]
  },
  {
   "cell_type": "code",
   "execution_count": null,
   "metadata": {},
   "outputs": [],
   "source": [
    "## PROBLEM CODE CELL\n",
    "# Generates an array [0 4 8 5] Hint: Think about the type of input for np.array!\n",
    "x = np.array(0,4,8,5)\n",
    "print(x)\n",
    "\n",
    "# Generates array with spacing 0.1 and values ranging from 0 to 10 Hint: Is there another more suitable function?\n",
    "x = np.linspace(0,10,0.1)\n",
    "print(x)\n",
    "\n",
    "# Generates a 4x4 array of zeros Hint: Something is missing from the input\n",
    "x = np.zeros(4,4)\n",
    "print(x)"
   ]
  },
  {
   "cell_type": "markdown",
   "metadata": {},
   "source": [
    "#### 2) Generating arrays\n",
    "\n",
    "1. Create an array from 0.1 to 10 with 12 elements, inclusively\n",
    "\n",
    "\n",
    "\n",
    "2. Create array from 1 to 9\n",
    "\n",
    "\n",
    "\n",
    "3. Create a matrix with seven columns and five rows of zeros\n",
    "\n",
    "\n",
    "\n",
    "4. Create a matrix which looks like:\n",
    "$$\n",
    "\\begin{bmatrix} \n",
    "1 & 0 & 0 \\\\\n",
    "0 & 1 & 0\\\\\n",
    "0 & 0 & 1 \n",
    "\\end{bmatrix}\n",
    "$$ \n",
    "    Also print the name of the matrix!"
   ]
  },
  {
   "cell_type": "code",
   "execution_count": null,
   "metadata": {},
   "outputs": [],
   "source": [
    "## PROBLEM CODE CELL\n",
    "# 1.\n",
    "\n",
    "# 2.\n",
    "\n",
    "# 3.\n",
    "\n",
    "# 4."
   ]
  },
  {
   "cell_type": "markdown",
   "metadata": {},
   "source": [
    "#### 3) Array Slicing \n",
    "Here we have a code cell that defines a bunch of arrays that are to be sliced. Run this cell but do not change the code in this cell! "
   ]
  },
  {
   "cell_type": "code",
   "execution_count": null,
   "metadata": {},
   "outputs": [],
   "source": [
    "## SETUP CODE CELL DO NOT CHANGE \n",
    "# Generates an array from list\n",
    "x = np.array([2,7,9,3,6])\n",
    "print(x)\n",
    "\n",
    "# Generates an array from lists\n",
    "y = np.array([[8,3,2],[1,4,9],[5,3,2]])\n",
    "print(y)"
   ]
  },
  {
   "cell_type": "markdown",
   "metadata": {},
   "source": [
    "Some poor attempts have been made to slice the arrays ````x```` and ````y```` which have been defined above. Correct these so that the desired values are printed as indicated by the comments. The correct output should be:\n",
    "\n",
    "$2$\n",
    "\n",
    "$[9,3,6]$\n",
    "\n",
    "$[3,4, 3]$\n",
    "\n",
    "$4$"
   ]
  },
  {
   "cell_type": "code",
   "execution_count": null,
   "metadata": {},
   "outputs": [],
   "source": [
    "## PROBLEM CODE CELL\n",
    "# Prints 1st value of array x Hint: Think of how Python numbers different indices\n",
    "print(x[1])\n",
    "\n",
    "# Prints 2nd to last value of array x\n",
    "print(x[2;])\n",
    "\n",
    "# Prints second column of array y Hint: How are rows and columns seperated when slicing?\n",
    "print(y[:1])\n",
    "\n",
    "# Prints second diagonal value of array y\n",
    "print(y[1:1])"
   ]
  },
  {
   "cell_type": "markdown",
   "metadata": {},
   "source": [
    "#### 4) Slicing\n",
    "\n",
    "Using the matrix, print slices of the diagonal components of the array (from left going down to right) in the same ````print```` statement. Then print a slice of a smaller array consisting of the array that would be left if you removed the first row and first column.\n",
    "\n",
    "$$x =\\begin{pmatrix} 1 & 0 & 3 \\\\ 4 & 5 & 0 \\\\ 9 & 2 & 0 \\end{pmatrix}$$"
   ]
  },
  {
   "cell_type": "code",
   "execution_count": null,
   "metadata": {},
   "outputs": [],
   "source": [
    "## PROBLEM CODE CELL\n",
    "\n",
    "x = np.array([[1,0,3],[4,5,0],[9,2,0]])\n",
    "\n",
    "# Print the diagonal components\n",
    "\n",
    "# Array with first row and column removed\n"
   ]
  },
  {
   "cell_type": "markdown",
   "metadata": {},
   "source": [
    "#### 5) Modifying Your _1darray_\n",
    "Create a 1D array of ones consisting of $50$ values. Change the values of the array so that the values alternate between ones and zeros ie $1,0,1,0,1,0,1,0,1...$ ensuring that the starting value is $1$. Think about what sort of loop and/or conditional statement you might need. \n",
    "<div class=\"alert alert-block alert-success\">\n",
    "<b>Hint:</b> Some approaches might require mod operator `%`\n",
    "</div>\n"
   ]
  },
  {
   "cell_type": "code",
   "execution_count": null,
   "metadata": {},
   "outputs": [],
   "source": [
    "## PROBLEM CODE CELL\n",
    "\n",
    "# Create an 1D array of 50 ones\n",
    "\n",
    "# Loop over array values and mutate some values\n",
    "\n",
    "# Output\n"
   ]
  },
  {
   "cell_type": "markdown",
   "metadata": {},
   "source": [
    "#### 6) Modifying Your _2darray_\n",
    "1. Generate a $10\\times10$ matrix of zeros\n",
    "2. Make this matrix an identity matrix\n",
    "<div class=\"alert alert-block alert-success\">\n",
    "<b>Hint:</b> An identity matrix is a matrix that all elements are 0s except for the diagonal elements, which are 1s\n",
    "</div>\n"
   ]
  },
  {
   "cell_type": "code",
   "execution_count": null,
   "metadata": {},
   "outputs": [],
   "source": [
    "## PROBLEM CODE CELL\n",
    "\n",
    "# Create a 2D array of 10x10 zeros\n",
    "\n",
    "# Loop through the array values and mutate the diagonal items\n",
    "\n",
    "# Output\n"
   ]
  },
  {
   "cell_type": "markdown",
   "metadata": {},
   "source": [
    "#### 7) Array Functions\n",
    "This problem has another setup code cell to run before attempting to solve the problems."
   ]
  },
  {
   "cell_type": "code",
   "execution_count": null,
   "metadata": {},
   "outputs": [],
   "source": [
    "## SETUP CODE CELL DO NOT CHANGE\n",
    "# Generates an array of all even numbers from 2 to 20\n",
    "x = np.linspace(2,20,10)\n",
    "print(x)\n",
    "\n",
    "# Generates an array of all even numbers from 22 to 40\n",
    "y = np.linspace(22,40,10)\n",
    "print(y)"
   ]
  },
  {
   "cell_type": "markdown",
   "metadata": {},
   "source": [
    "Correct output should be: \n",
    "\n",
    "[ 2.  4.  6.  8. 10. 12. 14. 16. 18. 20.]\n",
    "\n",
    "[22. 24. 26. 28. 30. 32. 34. 36. 38. 40.  2.  4.  6.  8. 10. 12. 14. 16. 18. 20. 22. 24. 26. 28. 30. 32. 34. 36. 38. 40.]"
   ]
  },
  {
   "cell_type": "code",
   "execution_count": null,
   "metadata": {},
   "outputs": [],
   "source": [
    "## PROBLEM CODE CELL\n",
    "# Redefines x as array shifted to the left by 2 \n",
    "x = np.roll(x,2)\n",
    "print(x)\n",
    "\n",
    "# Merges the specified arrays into a new array \n",
    "z = np.concatenate(y,x,y)\n",
    "print(z)"
   ]
  },
  {
   "cell_type": "markdown",
   "metadata": {},
   "source": [
    "#### 8) Redefining Array Values\n",
    "The setup code cell will define a ````x```` to be a $10\\times10$ array of zeros. The code in the problem code cell attempts to change the every value in a row to be equal to the row index. "
   ]
  },
  {
   "cell_type": "code",
   "execution_count": null,
   "metadata": {},
   "outputs": [],
   "source": [
    "## SETUP CODE CELL DO NOT CHANGE\n",
    "# Creating a 10x10 array of zeros\n",
    "x = np.zeros((10,10))\n",
    "print(x)"
   ]
  },
  {
   "cell_type": "markdown",
   "metadata": {},
   "source": [
    "If you have sorted the code correctly then all values in the first row will be $0$, $1$ in the second, $2$ in the third and so forth."
   ]
  },
  {
   "cell_type": "code",
   "execution_count": null,
   "metadata": {},
   "outputs": [],
   "source": [
    "## PROBLEM CODE CELL\n",
    "# Loop over all rows Hint: Something is missing from the range argument\n",
    "for i in range(x):\n",
    "    # Redefines the current array value as the row index Hint: How do you redefine array values\n",
    "    x = i \n",
    "\n",
    "# Outputs x\n",
    "print(x)"
   ]
  },
  {
   "cell_type": "markdown",
   "metadata": {},
   "source": [
    "#### 9. Generating random numbers\n",
    "Generate 10 random numbers from the interval $[0.0, 15.0)$\n",
    "<div class=\"alert alert-block alert-success\">\n",
    "<b>Hint:</b> We'll have to scale up from 0-1 to 0-15. I wonder how you can do that...\n",
    "</div>"
   ]
  },
  {
   "cell_type": "markdown",
   "metadata": {},
   "source": [
    "### Coding From Scratch\n",
    "#### 1) Generating Arrays\n",
    "In the code cell below define and print a set of arrays defined ````x````, ````y```` and ````z````. The array ````x```` should be take the form [10 12 9 2 20], ````y```` should have $101$ values from $10$ to $20$ inclusive and ```z``` should be a $2\\times3$ array of ones."
   ]
  },
  {
   "cell_type": "code",
   "execution_count": null,
   "metadata": {},
   "outputs": [],
   "source": []
  },
  {
   "cell_type": "markdown",
   "metadata": {},
   "source": [
    "#### 2) Array Functions\n",
    "Using the available Numpy functions on array ````x```` from problem $1$, find the average and the standard deviation of the value in this array. Redefine ````x```` as an array with all these values sorted in numerical order."
   ]
  },
  {
   "cell_type": "code",
   "execution_count": null,
   "metadata": {},
   "outputs": [],
   "source": []
  },
  {
   "cell_type": "markdown",
   "metadata": {},
   "source": [
    "#### 3) Redefining Array Variables\n",
    "Generate an array ````x```` to be a $10\\times10$ array of zeros. Redefine its diagonal components (from left to right) to equal one. Hint: You will likely require two loops along with a conditional statement that determines whether the current slice is a diagonal component. Think carefully about what this condition might be."
   ]
  },
  {
   "cell_type": "code",
   "execution_count": null,
   "metadata": {},
   "outputs": [],
   "source": []
  },
  {
   "cell_type": "markdown",
   "metadata": {},
   "source": [
    "#### 4) Random Numbers\n",
    "The popular role-playing game Dungeons and Dragons utilises a variety of die with varying numbers of sides. For instance the d20 dice has 20 sides and a d10 has 10. Create a function that takes an integer as the argument. This integer specifies the number of sides the dice has. Your function should output a number that you could get by rolling the specified type of dice. Once you think your function works modify it so it creates an array of dice rolled values. The length of the array should be specified by an additional argument for your function. Take the average of these values to check if your function works as expected for an array of $1000$ values. In general the average for rolling a certain dice should be half the maximum value plus $0.5$, so $5.5$ for a d10 for example. You should get close to this value but will likely be off slightly. "
   ]
  },
  {
   "cell_type": "code",
   "execution_count": null,
   "metadata": {},
   "outputs": [],
   "source": []
  },
  {
   "cell_type": "markdown",
   "metadata": {},
   "source": [
    "### Further Work (Optional)\n",
    "#### 1) Vectors and Matrices\n",
    "Given two vectors: $$ \\textbf{A} = \\begin{pmatrix} 1 \\\\ 2 \\\\ -1 \\end{pmatrix}, \\textbf{B} = \\begin{pmatrix} 4 \\\\ -1 \\\\ 5 \\end{pmatrix}. $$ Using Numpy find: $$\\textbf{A}\\cdot\\textbf{B}, $$ $$\\textbf{A}\\times\\textbf{B}, $$ $$\\textbf{A}\\otimes\\textbf{B}. $$ Find the eigenvalues resulting from the matrix that is the result of the outer product between the two vectors."
   ]
  },
  {
   "cell_type": "code",
   "execution_count": null,
   "metadata": {},
   "outputs": [],
   "source": []
  },
  {
   "cell_type": "markdown",
   "metadata": {},
   "source": [
    "#### Levi-Civita Tensor (Optional x2)\n",
    "The Levi-Civita tensor is a 3rd order tensor defined such that:  $$ \\epsilon_{ijk} = \n",
    "    \\begin{cases}\n",
    "      0 & if \\>\\> i=j \\>\\> or \\>\\> j=k \\>\\> or \\>\\> i=k \\\\\n",
    "      1 & for \\>\\> even \\>\\> passes \\\\\n",
    "      -1 & for \\>\\> odd \\>\\> passes\n",
    "    \\end{cases}\n",
    "$$\n",
    "Even passes meaning if you wrote out the indices $i,j$ and $k$ out infinitely it would be equivalent to writing 1,2,3 out infinitely (for three dimensions at least). Odd passes mean the opposite is true provided none of the indices are equal as then $\\epsilon_{ijk}=0$. We can represent this three index structure as a 3D Numpy array. Generate such an array using loops and conditional statements. Start with a $3\\times3\\times3$ array of ones and turn the relevent values into zeros. Some of you're conditional statements will require multiple conditions so use ````and```` or ````or```` in such cases. "
   ]
  },
  {
   "cell_type": "code",
   "execution_count": null,
   "metadata": {},
   "outputs": [],
   "source": []
  }
 ],
 "metadata": {
  "kernelspec": {
   "display_name": "Python 3",
   "language": "python",
   "name": "python3"
  },
  "language_info": {
   "codemirror_mode": {
    "name": "ipython",
    "version": 3
   },
   "file_extension": ".py",
   "mimetype": "text/x-python",
   "name": "python",
   "nbconvert_exporter": "python",
   "pygments_lexer": "ipython3",
   "version": "3.8.8"
  }
 },
 "nbformat": 4,
 "nbformat_minor": 2
}

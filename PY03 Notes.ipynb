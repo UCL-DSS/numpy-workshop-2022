{
 "cells": [
  {
   "cell_type": "markdown",
   "metadata": {},
   "source": [
    "# PY03 - Data Science with Python: NumPy\n",
    "\n",
    "Welcome to our first workshop in the ***Data Scientist's Toolkit*** series!\n",
    "In this workshop we start to introduce our first Python library called NumPy. Libraries often contain a lot of useful in-built functions that have been pre-made for us to download. NumPy focuses on a lot of mathematical functionality, much of which we will omit or reserve for further work.\n"
   ]
  },
  {
   "cell_type": "markdown",
   "metadata": {},
   "source": [
    "###  Table of Contents:\n",
    "\n",
    "## 1) [What is NumPy](#win)\n",
    "## 2) [NumPy arrays](#na)\n",
    "## 3) [Mathematical Operations](#mo)\n",
    "## 4) [Random Numbers](#rn)\n",
    "## 5) [Complex Numbers](#cn)\n",
    "## 6) [Other ways of making arrays](#oma)\n",
    "## 7) [Matrix operations](#mo)\n",
    "\n",
    "\n",
    "\n",
    "***But first:***"
   ]
  },
  {
   "cell_type": "markdown",
   "metadata": {},
   "source": [
    "## Software Prerequisite\n",
    "You will need the`NumPy`package for the workshop:\n",
    "\n",
    "1. If you are using `conda` or you have installed `Anaconda` and launched the jupyter notebook from `Anaconda` \n"
   ]
  },
  {
   "cell_type": "code",
   "execution_count": 1,
   "metadata": {},
   "outputs": [],
   "source": [
    "#!conda install numpy"
   ]
  },
  {
   "cell_type": "markdown",
   "metadata": {},
   "source": [
    "2. ***Otherwise***, `pip` is usually pre-installed if you are using Python 3. Use `pip` to install _NumPy_."
   ]
  },
  {
   "cell_type": "code",
   "execution_count": 2,
   "metadata": {},
   "outputs": [],
   "source": [
    "#!pip3 install numpy"
   ]
  },
  {
   "cell_type": "markdown",
   "metadata": {},
   "source": [
    "## What Is _NumPy_?\n",
    "\n",
    "_NumPy_ (Numerical Python), according to [numpy.org](https://numpy.org/devdocs/user/absolute_beginners.html)...\n",
    "\n",
    "> ...is an open source Python library that’s used in almost **every field of science and engineering**. It’s the universal standard for working with **numerical data** in Python, and it’s at the core of the **scientific Python and PyData ecosystems**.\n",
    "\n",
    "> ...The NumPy library contains **multidimensional array and matrix data structures** (you’ll find more information about this in later sections). It provides `ndarray`, a homogeneous n-dimensional array object, with methods to efficiently operate on it. NumPy can be used to perform a wide variety of **mathematical operations on arrays**. It adds powerful data structures to Python that guarantee **efficient calculations** with **arrays and matrices** and it supplies an enormous library of high-level mathematical functions that operate on these arrays and matrices.\n",
    "\n",
    "### Why bother with it?\n",
    "\n",
    "#### Matrix Multiplication for $3 \\times 3$ matrices\n",
    "\n",
    "If you're familiar with matrices, you know that working out a matrix multiplication like this:\n",
    "\n",
    "$$\n",
    "\\begin{bmatrix} \n",
    "5 & 7 & 2 \\\\\n",
    "-2 & 3 & 6\\\\\n",
    "5 & 8 & 1 \n",
    "\\end{bmatrix}\n",
    "\\begin{bmatrix} \n",
    "1 & 2 & 3 \\\\\n",
    "-4 & 5 & 6\\\\\n",
    "9 & 8 & 7 \n",
    "\\end{bmatrix}\n",
    "$$\n",
    "\n",
    "This takes a *lot* of time being written out, and since you're a human, you're bound to make mistakes somewhere. \n",
    "\n",
    "<div class=\"alert alert-block alert-info\">\n",
    "<b>Info:</b> To calculate a matrix multiplication, $AB = C$, you have to perform a multiplication for each component $ c_{ij} = a_{ik}b_{kj}$, where $A$ is an $n \\times m$ matrix and $B$ is an $m \\times p$ matrix\n",
    "</div>\n",
    "\n",
    "\n",
    "\n",
    "#### When $m, n, p$ are extremely high, it's going to get very painful. That's why we can use NumPy!\n"
   ]
  },
  {
   "cell_type": "markdown",
   "metadata": {},
   "source": [
    "## Importing NumPy\n",
    "Firstly, we will have to import NumPy, we can do this like so:"
   ]
  },
  {
   "cell_type": "code",
   "execution_count": 3,
   "metadata": {},
   "outputs": [],
   "source": [
    "# Importing NumPy\n",
    "import numpy as np"
   ]
  },
  {
   "cell_type": "markdown",
   "metadata": {},
   "source": [
    "Notice we added: `as np` at the end of the import, this means that we don't have to write \"`numpy`\" before every numpy function, we can just write `np` instead. For example, if we wanted to write a square root, typing `np.sqrt(2)` is shorter than writing `numpy.sqrt(2)`\n",
    "\n",
    "<div class=\"alert alert-block alert-info\">\n",
    "<b>Info:</b> It is common practice to import all necessary modules at the start of your code. If you see `ModuleNotFoundError: No module named 'numpy'`, it means you haven't installed it or it is not installed properly\n",
    "</div>"
   ]
  },
  {
   "cell_type": "markdown",
   "metadata": {},
   "source": [
    "## Making NumPy Arrays\n",
    "Probably the most important feature from NumPy is the array. These are similar to lists although NumPy provides a great deal of functionality which we will be utilising in the workshops. Using this functionality enables you to perform various operations on large sets of data.\n",
    "\n",
    "### Generating Arrays\n",
    "There are many ways you can generate arrays. Some of these methods are displayed below.\n",
    "\n",
    "#### [np.array](https://numpy.org/doc/1.19/reference/generated/numpy.array.html?highlight=array#numpy.array)\n",
    "This command turns a list into a NumPy array."
   ]
  },
  {
   "cell_type": "code",
   "execution_count": 4,
   "metadata": {},
   "outputs": [
    {
     "name": "stdout",
     "output_type": "stream",
     "text": [
      "Array 1: \n",
      "[1 2 3]\n",
      "\n",
      " Array 2: \n",
      "[[1 2 3]\n",
      " [4 5 6]]\n"
     ]
    }
   ],
   "source": [
    "# Generates an array [1 2 3]\n",
    "x = np.array([1,2,3])\n",
    "print(\"Array 1: \")\n",
    "print(x)\n",
    "# Generates a 2x3 array [[1 2 3] [4 5 6]]\n",
    "x = np.array([[1,2,3],[4,5,6]])\n",
    "print(\"\\n Array 2: \")\n",
    "print(x)"
   ]
  },
  {
   "cell_type": "markdown",
   "metadata": {},
   "source": [
    "<div class=\"alert alert-block alert-danger\">\n",
    "<b>Warning:</b> x = np.array(1, 2, 3) is wrong while x = np.array([1, 2, 3]) is right, why do you think that's the case?\n",
    "</div>"
   ]
  },
  {
   "cell_type": "markdown",
   "metadata": {},
   "source": [
    "#### [np.linspace](https://numpy.org/doc/1.19/reference/generated/numpy.linspace.html?highlight=linspace#numpy.linspace)\n",
    "The function ````np.linspace```` has three arguments: startpoint, endpoint and number of points. The first number $0$ tells the kernel to start from $0$ while the second number tells it to end at $10$. The $5$ indicates the number of values in the array. The array will be created with an evenly spaced set of values starting from $0$ ending at $10$."
   ]
  },
  {
   "cell_type": "code",
   "execution_count": 5,
   "metadata": {},
   "outputs": [
    {
     "name": "stdout",
     "output_type": "stream",
     "text": [
      "[ 0.   2.5  5.   7.5 10. ]\n"
     ]
    }
   ],
   "source": [
    "# Generates an array [0 2.5 5 7.5 10]\n",
    "x = np.linspace(0,10,5)\n",
    "print(x)"
   ]
  },
  {
   "cell_type": "markdown",
   "metadata": {},
   "source": [
    "#### [np.arange](https://numpy.org/doc/1.19/reference/generated/numpy.arange.html?highlight=arange#numpy.arange)\n",
    "With ````np.arange```` three arguments are passed. The first, $0$ indicates the start point. The second argument, $11$ indicates the end point however it is not inclusive! The end point it actually the integer before the second argument; in this case $10$. The last argument indicates the spacing between each value. In this case the input is $1$ so as can be seen from the output each value is spaced accordingly."
   ]
  },
  {
   "cell_type": "code",
   "execution_count": 6,
   "metadata": {},
   "outputs": [
    {
     "name": "stdout",
     "output_type": "stream",
     "text": [
      "[ 0  1  2  3  4  5  6  7  8  9 10]\n"
     ]
    }
   ],
   "source": [
    "# Generates an array [1 2 3 4 5 6 7 8 9 10]\n",
    "x = np.arange(0,11,1)\n",
    "print(x)"
   ]
  },
  {
   "cell_type": "markdown",
   "metadata": {},
   "source": [
    "#### [np.zeros](https://numpy.org/doc/1.19/reference/generated/numpy.zeros.html?highlight=zeros#numpy.zeros) and [np.ones](https://numpy.org/doc/1.19/reference/generated/numpy.ones.html?highlight=ones#numpy.ones)\n",
    "If you want to produce arrays of a specific size these are probably your most useful choice. However, unless you're working entirely with zeros or ones you'll have to fill them first.\n",
    "\n",
    "Both of these functions work in the exact same way: the number inside for the functions to produce the first two arrays simply specifies how many values are in your array. With `np.zeros` all these values are $0$ while with ````np.ones```` the values are $1$. \n",
    "\n",
    "For arrays with more dimensions than one, it **needs** to have another set of brackets with the size of each dimension seperated by commas. "
   ]
  },
  {
   "cell_type": "code",
   "execution_count": 7,
   "metadata": {},
   "outputs": [
    {
     "name": "stdout",
     "output_type": "stream",
     "text": [
      "1st: \n",
      "[0. 0.]\n",
      "\n",
      "Second: \n",
      "[1 1 1]\n",
      "\n",
      "Third: \n",
      " [[0. 0. 0.]\n",
      " [0. 0. 0.]\n",
      " [0. 0. 0.]]\n",
      "\n",
      "Fourth: \n",
      " [[1 1 1]\n",
      " [1 1 1]\n",
      " [1 1 1]]\n"
     ]
    }
   ],
   "source": [
    "# Generates an array [0, 0.] in float64\n",
    "x = np.zeros(2)\n",
    "print(\"1st: \")\n",
    "print(x)\n",
    "\n",
    "# Generates an array [1 1 1] in integer\n",
    "x = np.ones(3, int)\n",
    "print(\"\\nSecond: \")\n",
    "print(x)\n",
    "\n",
    "# Generates an 3x3 array of zeros\n",
    "x = np.zeros((3,3))\n",
    "print(\"\\nThird: \\n\", x)\n",
    "\n",
    "# Generates an 3x3 array of ones in integer\n",
    "x = np.ones((3,3), int)\n",
    "print(\"\\nFourth: \\n\", x)"
   ]
  },
  {
   "cell_type": "markdown",
   "metadata": {
    "collapsed": true
   },
   "source": [
    "#### Lists and Arrays?\n",
    "As you can see by the output, the type of NumPy arrays and Python lists are different."
   ]
  },
  {
   "cell_type": "code",
   "execution_count": 8,
   "metadata": {},
   "outputs": [
    {
     "name": "stdout",
     "output_type": "stream",
     "text": [
      "Type A:  <class 'list'>\n",
      "Type B:  <class 'numpy.ndarray'>\n"
     ]
    }
   ],
   "source": [
    "a = [1, 2, 3]\n",
    "print(\"Type A: \", type(a))\n",
    "\n",
    "b = np.array([1, 2, 3])\n",
    "print(\"Type B: \", type(b))\n",
    "\n"
   ]
  },
  {
   "cell_type": "markdown",
   "metadata": {},
   "source": [
    "As well as their components"
   ]
  },
  {
   "cell_type": "code",
   "execution_count": 9,
   "metadata": {},
   "outputs": [
    {
     "name": "stdout",
     "output_type": "stream",
     "text": [
      "\n",
      "Type A[0] <class 'int'>\n",
      "Type B[0] <class 'numpy.int32'>\n",
      "Type B[0] (Alternatively) int32\n"
     ]
    }
   ],
   "source": [
    "print(\"\\nType A[0]\", type(a[0]))\n",
    "print(\"Type B[0]\", type(b[0]))\n",
    "# Or\n",
    "print(\"Type B[0] (Alternatively)\", b[0].dtype)"
   ]
  },
  {
   "cell_type": "markdown",
   "metadata": {},
   "source": [
    "#### Slicing\n",
    "As you can see, you can call the individual components of the array:"
   ]
  },
  {
   "cell_type": "code",
   "execution_count": 10,
   "metadata": {},
   "outputs": [
    {
     "name": "stdout",
     "output_type": "stream",
     "text": [
      "3\n",
      "3\n"
     ]
    }
   ],
   "source": [
    "# Creating a list \n",
    "x = [0,1,2,3,4,5]\n",
    "\n",
    "# Slicing the list\n",
    "print(x[3])\n",
    "\n",
    "# Turning the list into an array\n",
    "x = np.array(x)\n",
    "\n",
    "# Slicing the array\n",
    "print(x[3])"
   ]
  },
  {
   "cell_type": "markdown",
   "metadata": {},
   "source": [
    "What about arrays with more dimensions? When slicing a 2D array you select by rows and columns. If you want to return a particular row then you simply specify`x[n]`, where`n`is the row index (remember Python starts counting from zero) and`x`is the array to be sliced. To select a particular column you would write ````x[:,n]````\n",
    "\n",
    "Here the colon specifies that we are selecting all the rows and ````n```` selects a column. When picking a particular value you write`x[row index,column index]`\n",
    "\n",
    "Arrays with more dimensions will have more indices but we will not discuss these. \n",
    "\n",
    "Presented here is an example of a $3\\times3$ array. The slices of the array are placed in the same position as the array value they would return. If I had an array that looked something like: $$x =\\begin{pmatrix} 1 & 0 & 3 \\\\ 4 & 5 & 0 \\\\ 9 & 2 & 0 \\end{pmatrix}$$ then slices of each of these array values would look something like this: $$\\begin{pmatrix} x[0,0] & x[0,1] & x[0,2] \\\\ x[1,0] & x[1,1] & x[1,2] \\\\ x[2,0] & x[2,1] & x[2,2] \\end{pmatrix}$$"
   ]
  },
  {
   "cell_type": "code",
   "execution_count": 11,
   "metadata": {},
   "outputs": [
    {
     "name": "stdout",
     "output_type": "stream",
     "text": [
      "The array:\n",
      "[[0 1 2]\n",
      " [3 4 5]]\n",
      "\n",
      " First row:\n",
      "[0 1 2]\n",
      "\n",
      " Second row:\n",
      "[3 4 5]\n",
      "\n",
      "Second column:\n",
      "[1 4]\n",
      "\n",
      "First row, third column:\n",
      "2\n"
     ]
    }
   ],
   "source": [
    "# Creates an array [[0 1 2] [3 4 5]]\n",
    "x = np.array([[0,1,2],[3,4,5]])\n",
    "print(\"The array:\")\n",
    "print(x)\n",
    "\n",
    "# First row\n",
    "print(\"\\n First row:\")\n",
    "print(x[0])\n",
    "\n",
    "# Second row\n",
    "print(\"\\n Second row:\")\n",
    "print(x[1])\n",
    "\n",
    "# Second column\n",
    "print(\"\\nSecond column:\")\n",
    "      \n",
    "print(x[:,1])\n",
    "\n",
    "# First row, third column \n",
    "print(\"\\nFirst row, third column:\")\n",
    "print(x[0,2])"
   ]
  },
  {
   "cell_type": "markdown",
   "metadata": {},
   "source": [
    "## Mathematical Operations\n",
    "Mathematical operations behave differently when applied to Python Lists than they do to NumPy Arrays. In fact many of the operations **cannot** be applied to lists or in the case of addition one needs to add another list. \n",
    "\n",
    "Examples are shown below."
   ]
  },
  {
   "cell_type": "code",
   "execution_count": 12,
   "metadata": {},
   "outputs": [
    {
     "name": "stdout",
     "output_type": "stream",
     "text": [
      "List multiplied by 2: [0, 1, 2, 3, 4, 5, 0, 1, 2, 3, 4, 5]\n",
      "List added to a list: [0, 1, 2, 3, 4, 5, 0, 1, 2, 3, 4, 5]\n"
     ]
    }
   ],
   "source": [
    "# Defining a python list\n",
    "x = [0, 1, 2, 3, 4, 5]\n",
    "\n",
    "# Multiply list by 2\n",
    "print(\"List multiplied by 2:\", x*2)\n",
    "\n",
    "# List added to a list\n",
    "print(\"List added to a list:\", x + x)"
   ]
  },
  {
   "cell_type": "code",
   "execution_count": 13,
   "metadata": {},
   "outputs": [
    {
     "name": "stdout",
     "output_type": "stream",
     "text": [
      "Array multiplied by 2: [ 0  2  4  6  8 10]\n",
      "Adding 2 to array: [2 3 4 5 6 7]\n",
      "Adding array to array: [ 0  2  4  6  8 10]\n",
      "Squaring an array: [ 0  1  4  9 16 25]\n"
     ]
    }
   ],
   "source": [
    "# Turns list into NumPy array\n",
    "x = np.array(x)\n",
    "\n",
    "# Multiply array by 2\n",
    "print(\"Array multiplied by 2:\", x*2)\n",
    "\n",
    "# Adding 2 to array\n",
    "print(\"Adding 2 to array:\", x + 2)\n",
    "\n",
    "# Adding array to array\n",
    "print(\"Adding array to array:\", x + x)\n",
    "\n",
    "# Multiplying array to array (a.k.a squaring it)\n",
    "print(\"Squaring an array:\", x * x)"
   ]
  },
  {
   "cell_type": "markdown",
   "metadata": {
    "collapsed": true
   },
   "source": [
    "As can be seen multiplying a Python list by a number will repeat the list that number of times.\n",
    "\n",
    "Adding two lists simply attaches the second list to the end of the first. \n",
    "\n",
    "It can clearly be seen the same behaviour does not apply to arrays: Instead multiplying by a number multiplies each number in that array and adding a number to an array adds that number to each number in the array. Adding two arrays together results in values with the same position in that array being added together.\n",
    "\n",
    "#### Useful Functions\n",
    "Below is a list of useful functions which can be applied to arrays. "
   ]
  },
  {
   "cell_type": "code",
   "execution_count": 14,
   "metadata": {},
   "outputs": [
    {
     "name": "stdout",
     "output_type": "stream",
     "text": [
      "Sum of the values: 6\n",
      "Average of the values: 1.5\n",
      "Sorted values: [0 1 2 3]\n",
      "Maximum value: 3\n",
      "Minimum value: 0\n",
      "Standard deviation: 1.118033988749895\n",
      "Variance: 1.25\n",
      "Size: 4\n",
      "Shape: (4,)\n",
      "Shape of y: (3, 3)\n"
     ]
    }
   ],
   "source": [
    "# Creating an array\n",
    "x = np.array([3,2,1,0])\n",
    "\n",
    "# Finds the sum of all values in the array\n",
    "print(\"Sum of the values:\", np.sum(x))\n",
    "\n",
    "# Finds the average of all values in the array\n",
    "print(\"Average of the values:\", np.mean(x))\n",
    "\n",
    "# Sorts the values in the array into ascending order\n",
    "print(\"Sorted values:\", np.sort(x))\n",
    "\n",
    "# Returns the maximimun value in the array\n",
    "print(\"Maximum value:\", np.max(x))\n",
    "\n",
    "# Returns the minimum value in the array\n",
    "print(\"Minimum value:\", np.min(x))\n",
    "\n",
    "# Returns the standard deviation\n",
    "print(\"Standard deviation:\", np.std(x))\n",
    "\n",
    "# Returns the variance \n",
    "print(\"Variance:\", np.var(x))\n",
    "\n",
    "# Returns the size of the array\n",
    "print(\"Size:\", np.size(x))\n",
    "\n",
    "# Returns the shape of the array\n",
    "# which is a tuple of ints giving the lengths of the corresponding array dimensions\n",
    "print(\"Shape:\", np.shape(x))\n",
    "\n",
    "# Multi-dimensional array\n",
    "y = np.array([[1, 2, 3], [4, 5, 6,], [4, 5, 6,]])\n",
    "print(\"Shape of y:\", np.shape(y))"
   ]
  },
  {
   "cell_type": "markdown",
   "metadata": {},
   "source": [
    "#### [np.roll](https://numpy.org/devdocs/reference/generated/numpy.roll.html?highlight=roll#numpy.roll)\n",
    "\n",
    "This function is used to shift values along the array. For a one dimensional array you'll need two arguments: the array itself and then the shift. The shift determines how many indexes each value is moved along. A minus sign changes the direction. Example shifts are shown below.\n",
    "\n",
    "Without NumPy, it's quite the __[challenge](https://leetcode.com/problems/rotate-array/)__"
   ]
  },
  {
   "cell_type": "code",
   "execution_count": 15,
   "metadata": {},
   "outputs": [
    {
     "name": "stdout",
     "output_type": "stream",
     "text": [
      "[5 1 2 3 4]\n",
      "[4 5 1 2 3]\n"
     ]
    }
   ],
   "source": [
    "# Creates an array\n",
    "x = np.array([1,2,3,4,5])\n",
    "\n",
    "# Shifts array values by 1 to the right\n",
    "print(np.roll(x,1))\n",
    "\n",
    "# Shifts array values by 3 to the left\n",
    "print(np.roll(x,-3))"
   ]
  },
  {
   "cell_type": "markdown",
   "metadata": {},
   "source": [
    "#### [np.append](https://numpy.org/devdocs/reference/generated/numpy.append.html?highlight=append#numpy.append)\n",
    "\n",
    "The first argument is an array. The second argument is the array to be attached to the end of the first."
   ]
  },
  {
   "cell_type": "code",
   "execution_count": 16,
   "metadata": {},
   "outputs": [
    {
     "name": "stdout",
     "output_type": "stream",
     "text": [
      "[ 1  2  3  4  5  6  7  8  9 10]\n"
     ]
    }
   ],
   "source": [
    "# Creates arrays\n",
    "x = np.array([1,2,3,4,5])\n",
    "y = np.array([6,7,8,9,10])\n",
    "\n",
    "# Attaches one array to the end of another\n",
    "print(np.append(x,y))"
   ]
  },
  {
   "cell_type": "markdown",
   "metadata": {},
   "source": [
    "#### [np.concatenate](https://numpy.org/devdocs/reference/generated/numpy.concatenate.html?highlight=concatenate#numpy.concatenate)\n",
    "\n",
    "Similar to append but this will attach multiple arrays together. Note the need for an additional pair of brackets!"
   ]
  },
  {
   "cell_type": "code",
   "execution_count": 17,
   "metadata": {},
   "outputs": [
    {
     "name": "stdout",
     "output_type": "stream",
     "text": [
      "[ 1  2  3  4  5  6  7  8  9 10  1  2  3  4  5  6  7  8  9 10]\n"
     ]
    }
   ],
   "source": [
    "# Creates arrays\n",
    "x = np.array([1,2,3,4,5])\n",
    "\n",
    "y = np.array([6,7,8,9,10])\n",
    "\n",
    "print(np.concatenate((x,y,x,y)))"
   ]
  },
  {
   "cell_type": "markdown",
   "metadata": {},
   "source": [
    "#### [np.reshape](https://numpy.org/devdocs/reference/generated/numpy.reshape.html?highlight=reshape#numpy.reshape)\n",
    "\n",
    "This function passes the array to be reshaped as the first argument, then in brackets the dimensions you want to reshape it to. Invalid choices for your dimensions will lead to an error."
   ]
  },
  {
   "cell_type": "code",
   "execution_count": 18,
   "metadata": {},
   "outputs": [
    {
     "name": "stdout",
     "output_type": "stream",
     "text": [
      "[[1 2]\n",
      " [3 4]\n",
      " [5 6]]\n"
     ]
    }
   ],
   "source": [
    "# Creates array\n",
    "x = np.array([1,2,3,4,5,6])\n",
    "\n",
    "# Reshapes the array\n",
    "print(np.reshape(x,(3,2)))"
   ]
  },
  {
   "cell_type": "markdown",
   "metadata": {},
   "source": [
    "### Mathematical Functions and Constants\n",
    "In addition to the functions above, which are generally used on arrays, there are commonly used mathmatical functions and constants. Below are a few of these:\n",
    "\n",
    "<div class=\"alert alert-block alert-info\">\n",
    "<b>Reminder:</b>  $e^0 = 1$ and thus $\\ln1 = 0$\n",
    "</div>\n"
   ]
  },
  {
   "cell_type": "code",
   "execution_count": 19,
   "metadata": {},
   "outputs": [
    {
     "name": "stdout",
     "output_type": "stream",
     "text": [
      "Pi: 3.141592653589793\n",
      "Square root: 3.0\n",
      "Sine: 1.0\n",
      "Cosine: 1.0\n",
      "e: 2.718281828459045\n",
      "Exponential: 1.0\n",
      "ln: 0.0\n",
      "Complex Number: (1+2j)\n"
     ]
    },
    {
     "name": "stderr",
     "output_type": "stream",
     "text": [
      "<ipython-input-19-b8b9736fca20>:21: DeprecationWarning: `np.complex` is a deprecated alias for the builtin `complex`. To silence this warning, use `complex` by itself. Doing this will not modify any behavior and is safe. If you specifically wanted the numpy scalar type, use `np.complex128` here.\n",
      "Deprecated in NumPy 1.20; for more details and guidance: https://numpy.org/devdocs/release/1.20.0-notes.html#deprecations\n",
      "  print(\"Complex Number:\", np.complex(1, 2))\n"
     ]
    }
   ],
   "source": [
    "# Pi - NOT A FUNCTION\n",
    "print(\"Pi:\", np.pi)\n",
    "\n",
    "# Square root function\n",
    "print(\"Square root:\", np.sqrt(9))\n",
    "\n",
    "# Trigonometric functions (default input is in radians)\n",
    "print(\"Sine:\", np.sin(np.pi/2))\n",
    "print(\"Cosine:\", np.cos(0))\n",
    "\n",
    "# Natural Constant e\n",
    "print(\"e:\", np.e)\n",
    "\n",
    "# Exponential (input is the power)\n",
    "print(\"Exponential:\", np.exp(0))\n",
    "\n",
    "# Natural logarithm ln\n",
    "print(\"ln:\", np.log(1))\n",
    "\n",
    "# A complex number 1+2i \n",
    "print(\"Complex Number:\", np.complex(1, 2))"
   ]
  },
  {
   "cell_type": "markdown",
   "metadata": {
    "collapsed": true
   },
   "source": [
    "## Redefining Array Variables\n",
    "By slicing one can redefine array variables. This is done by defining the slice of the array as what you wish it to be defined as. You can use loops to run over specific slices of an array in order to change the values of that array. Often it is useful to use the ````len```` function which returns the length of the array along one axis in order to loop over it. Examples are shown below."
   ]
  },
  {
   "cell_type": "code",
   "execution_count": 20,
   "metadata": {},
   "outputs": [],
   "source": [
    "# Creating a 3x3 array of zeros\n",
    "x = np.zeros((3,3))"
   ]
  },
  {
   "cell_type": "code",
   "execution_count": 21,
   "metadata": {},
   "outputs": [
    {
     "data": {
      "text/plain": [
       "array([[1., 0., 0.],\n",
       "       [0., 2., 0.],\n",
       "       [0., 0., 3.]])"
      ]
     },
     "execution_count": 21,
     "metadata": {},
     "output_type": "execute_result"
    }
   ],
   "source": [
    "# Filling the diagonal components of the array \n",
    "x[0,0] = 1 \n",
    "x[1,1] = 2\n",
    "x[2,2] = 3\n",
    "\n",
    "x"
   ]
  },
  {
   "cell_type": "code",
   "execution_count": 22,
   "metadata": {},
   "outputs": [],
   "source": [
    "# Creates new array with 100 zero values\n",
    "x = np.zeros(100)"
   ]
  },
  {
   "cell_type": "code",
   "execution_count": 23,
   "metadata": {},
   "outputs": [
    {
     "data": {
      "text/plain": [
       "array([ 0.,  1.,  2.,  3.,  4.,  5.,  6.,  7.,  8.,  9., 10., 11., 12.,\n",
       "       13., 14., 15., 16., 17., 18., 19., 20., 21., 22., 23., 24., 25.,\n",
       "       26., 27., 28., 29., 30., 31., 32., 33., 34., 35., 36., 37., 38.,\n",
       "       39., 40., 41., 42., 43., 44., 45., 46., 47., 48., 49., 50., 51.,\n",
       "       52., 53., 54., 55., 56., 57., 58., 59., 60., 61., 62., 63., 64.,\n",
       "       65., 66., 67., 68., 69., 70., 71., 72., 73., 74., 75., 76., 77.,\n",
       "       78., 79., 80., 81., 82., 83., 84., 85., 86., 87., 88., 89., 90.,\n",
       "       91., 92., 93., 94., 95., 96., 97., 98., 99.])"
      ]
     },
     "execution_count": 23,
     "metadata": {},
     "output_type": "execute_result"
    }
   ],
   "source": [
    "# Here we loop over the length of the array using len(x) to find the length of x\n",
    "for i in range(len(x)):\n",
    "    # Redfines current value of the array as current value of i\n",
    "    x[i] = i\n",
    "\n",
    "x"
   ]
  },
  {
   "cell_type": "markdown",
   "metadata": {},
   "source": [
    "### Random Numbers \n",
    "NumPy can be used to generate random numbers. Two functions for this are shown below.\n",
    "\n",
    "#### [np.random.random](https://numpy.org/devdocs/reference/random/generated/numpy.random.random.html?highlight=random#numpy.random.random)\n",
    "\n",
    "This returns random float numbers from half-open interval $[0.0, 1.0)$ (Includes 1.0, not 0.0)"
   ]
  },
  {
   "cell_type": "code",
   "execution_count": 24,
   "metadata": {},
   "outputs": [
    {
     "name": "stdout",
     "output_type": "stream",
     "text": [
      "0.03281437803427134\n",
      "[0.12574176 0.86896629 0.48131642 0.78702474 0.0821737  0.95997731]\n",
      "[[0.99206911 0.1920051  0.70333141]\n",
      " [0.9622875  0.75122846 0.86064653]\n",
      " [0.61822617 0.04816802 0.34898689]]\n"
     ]
    }
   ],
   "source": [
    "# Generates a random number from 0 to 1, exclusively\n",
    "print(np.random.random())\n",
    "\n",
    "# Generate 6 random numbers from 0 to 1, exclusively\n",
    "print(np.random.random(6))\n",
    "\n",
    "# Generates an array of random numbers for a 3x3 array\n",
    "print(np.random.random((3,3)))"
   ]
  },
  {
   "cell_type": "markdown",
   "metadata": {},
   "source": [
    "#### [np.random.randint](https://numpy.org/devdocs/reference/random/generated/numpy.random.randint.html?highlight=randint#numpy.random.randint)\n",
    "\n",
    "This returns random integers in a specified range. The first value is the lowest possible value while the second input is one higher than the highest possible value. The third input is the dimensions of an array (in brackets) to be filled with random integers. "
   ]
  },
  {
   "cell_type": "code",
   "execution_count": 25,
   "metadata": {},
   "outputs": [
    {
     "name": "stdout",
     "output_type": "stream",
     "text": [
      "3\n",
      "[[4 2 3]\n",
      " [6 1 5]\n",
      " [5 6 4]]\n",
      "[[20 12 15 13]\n",
      " [21 12 14 15]\n",
      " [23 14 18 21]\n",
      " [16 15 19 25]\n",
      " [20 25 12 18]\n",
      " [10 13 11 23]\n",
      " [15 11 19 14]\n",
      " [25 21 24 12]\n",
      " [13 12 21 15]]\n"
     ]
    }
   ],
   "source": [
    "# Generates a random number from 1 to 6\n",
    "print(np.random.randint(1, 7))\n",
    "\n",
    "# Generates a 3x3 array of random integers from 1 to 6\n",
    "print(np.random.randint(1, 7, (3,3)))\n",
    "\n",
    "# 9x4 array of random integers from 10 to 25\n",
    "print(np.random.randint(10, 26, (9,4)))"
   ]
  },
  {
   "cell_type": "markdown",
   "metadata": {},
   "source": [
    "## Further Knowledge:"
   ]
  },
  {
   "cell_type": "markdown",
   "metadata": {},
   "source": [
    "\n",
    "\n",
    "### Complex Numbers \n",
    "If you wish to fill arrays with complex numbers you need to pass an additional argument when creating the array (If you are converting a list with a complex number already inside you need not do this). The problem is the data type of values in arrays you create is normally float so this leads to an error when trying to redefine it as a complex number as the complex number can't be converted to a float. To resolve this use the additional argument ````dtype=complex```` when generating your array."
   ]
  },
  {
   "cell_type": "code",
   "execution_count": 26,
   "metadata": {},
   "outputs": [
    {
     "ename": "TypeError",
     "evalue": "can't convert complex to float",
     "output_type": "error",
     "traceback": [
      "\u001b[1;31m---------------------------------------------------------------------------\u001b[0m",
      "\u001b[1;31mTypeError\u001b[0m                                 Traceback (most recent call last)",
      "\u001b[1;32m<ipython-input-26-2eb45c5a61bc>\u001b[0m in \u001b[0;36m<module>\u001b[1;34m\u001b[0m\n\u001b[0;32m      3\u001b[0m \u001b[1;33m\u001b[0m\u001b[0m\n\u001b[0;32m      4\u001b[0m \u001b[1;31m# Trying to convert a value to a complex number\u001b[0m\u001b[1;33m\u001b[0m\u001b[1;33m\u001b[0m\u001b[1;33m\u001b[0m\u001b[0m\n\u001b[1;32m----> 5\u001b[1;33m \u001b[0mx\u001b[0m\u001b[1;33m[\u001b[0m\u001b[1;36m0\u001b[0m\u001b[1;33m,\u001b[0m\u001b[1;36m0\u001b[0m\u001b[1;33m]\u001b[0m \u001b[1;33m=\u001b[0m \u001b[1;36m1\u001b[0m \u001b[1;33m+\u001b[0m \u001b[1;36m1j\u001b[0m\u001b[1;33m\u001b[0m\u001b[1;33m\u001b[0m\u001b[0m\n\u001b[0m",
      "\u001b[1;31mTypeError\u001b[0m: can't convert complex to float"
     ]
    }
   ],
   "source": [
    "# Generates a 3x3 array of zeros\n",
    "x = np.zeros((3,3))\n",
    "\n",
    "# Trying to convert a value to a complex number\n",
    "x[0,0] = 1 + 1j"
   ]
  },
  {
   "cell_type": "code",
   "execution_count": 27,
   "metadata": {},
   "outputs": [
    {
     "name": "stdout",
     "output_type": "stream",
     "text": [
      "[[1.+1.j 0.+0.j 0.+0.j]\n",
      " [0.+0.j 0.+0.j 0.+0.j]\n",
      " [0.+0.j 0.+0.j 0.+0.j]]\n"
     ]
    }
   ],
   "source": [
    "# Generates a 3x3 array of zeros\n",
    "x = np.zeros((3,3),dtype=complex)\n",
    "\n",
    "# Trying to convert a value to a complex number\n",
    "x[0,0] = 1 + 1j\n",
    "\n",
    "# Outputs result\n",
    "print(x)"
   ]
  },
  {
   "cell_type": "markdown",
   "metadata": {},
   "source": [
    "### Other Ways of Making Arrays\n",
    "In addition to the functions above there are more functions that can be used to create arrays.\n",
    "\n",
    "#### [np.logspace](https://numpy.org/devdocs/reference/generated/numpy.logspace.html?highlight=logspace#numpy.logspace)\n",
    "\n",
    "This is similar to ````np.linspace```` however this works on a logarithmic scale (base $10$ by default). The first argument indicates the starting power, the second argument indicates the highest power and the third argument is the number of points. These points are evenly spaced on the logarithmic scale."
   ]
  },
  {
   "cell_type": "code",
   "execution_count": 28,
   "metadata": {},
   "outputs": [
    {
     "name": "stdout",
     "output_type": "stream",
     "text": [
      "[   1.   10.  100. 1000.]\n"
     ]
    }
   ],
   "source": [
    "# Creates an array of values using the logarithmic scale (base 10)\n",
    "x = np.logspace(0,3,4)\n",
    "print(x)"
   ]
  },
  {
   "cell_type": "markdown",
   "metadata": {},
   "source": [
    "#### [np.meshgrid]()\n",
    "This is a way of generating a set of 2D arrays from two already existing arrays. Usually this technique is used when generating a 2D grid of points."
   ]
  },
  {
   "cell_type": "code",
   "execution_count": 29,
   "metadata": {},
   "outputs": [
    {
     "name": "stdout",
     "output_type": "stream",
     "text": [
      "x = [ 0.  1.  2.  3.  4.  5.  6.  7.  8.  9. 10.]\n",
      "y = [0. 1. 2. 3. 4. 5.]\n",
      "[[ 0.  1.  2.  3.  4.  5.  6.  7.  8.  9. 10.]\n",
      " [ 0.  1.  2.  3.  4.  5.  6.  7.  8.  9. 10.]\n",
      " [ 0.  1.  2.  3.  4.  5.  6.  7.  8.  9. 10.]\n",
      " [ 0.  1.  2.  3.  4.  5.  6.  7.  8.  9. 10.]\n",
      " [ 0.  1.  2.  3.  4.  5.  6.  7.  8.  9. 10.]\n",
      " [ 0.  1.  2.  3.  4.  5.  6.  7.  8.  9. 10.]]\n",
      "[[0. 0. 0. 0. 0. 0. 0. 0. 0. 0. 0.]\n",
      " [1. 1. 1. 1. 1. 1. 1. 1. 1. 1. 1.]\n",
      " [2. 2. 2. 2. 2. 2. 2. 2. 2. 2. 2.]\n",
      " [3. 3. 3. 3. 3. 3. 3. 3. 3. 3. 3.]\n",
      " [4. 4. 4. 4. 4. 4. 4. 4. 4. 4. 4.]\n",
      " [5. 5. 5. 5. 5. 5. 5. 5. 5. 5. 5.]]\n"
     ]
    }
   ],
   "source": [
    "# Defining two arrays of different lengths\n",
    "x = np.linspace(0,10,11)\n",
    "print(\"x =\", x)\n",
    "\n",
    "y = np.linspace(0,5,6)\n",
    "print(\"y =\", y)\n",
    "\n",
    "# Generating a 2D grid\n",
    "x2D, y2D = np.meshgrid(x,y)\n",
    "\n",
    "# Outputting the 2D arrays\n",
    "print(x2D)\n",
    "print(y2D)"
   ]
  },
  {
   "cell_type": "markdown",
   "metadata": {},
   "source": [
    "<a id = \"mo\"></a>"
   ]
  },
  {
   "cell_type": "markdown",
   "metadata": {},
   "source": [
    "## More Mathematical Operators\n",
    "Arrays in NumPy are often used to represent mathematical objects called vectors and matrices. Arrays with one dimension can represent vectors while arrays with two dimensions can be used to represent matrices. One can also use arrays with more dimensions. Multiplying arrays together multiplies values in equivalent positions in each array together. Those of you taking maths courses will know this is not how vectors behave! The same is true of matrices. Luckily NumPy has in-built functions that allow us to properly apply operations to vectors and matrices. \n",
    "### Absolute Value of a Vector\n",
    "The magnitute of a vector is defined as: $$|\\textbf{a}| = \\sqrt{a^{2}_{1} + a^{2}_{2} + a^{2}_{3}} $$ "
   ]
  },
  {
   "cell_type": "code",
   "execution_count": 30,
   "metadata": {},
   "outputs": [
    {
     "name": "stdout",
     "output_type": "stream",
     "text": [
      "5.0\n"
     ]
    }
   ],
   "source": [
    "# Creates a vector [4 3 0]\n",
    "a = np.array([4,3,0])\n",
    "\n",
    "# Magnitude of the vector\n",
    "print(np.linalg.norm(a))"
   ]
  },
  {
   "cell_type": "markdown",
   "metadata": {},
   "source": [
    "### Scalar/Dot Product\n",
    "The scalar product between two vectors is defined as: $$\\textbf{a}\\cdot\\textbf{b} = \\sum_{i} a_i b_i, $$\n",
    "$$\\begin{pmatrix} a_1 \\\\ a_2 \\\\a_3 \\end{pmatrix} \\cdot \\begin{pmatrix} b_1 \\\\ b_2 \\\\b_3 \\end{pmatrix} = a_1 b_1 + a_2 b_2 + c_1 c_2, $$\n",
    "$$\\begin{pmatrix} 4 \\\\ 3 \\\\-1 \\end{pmatrix} \\cdot \\begin{pmatrix} 1 \\\\ 3 \\\\ 2  \\end{pmatrix} = (4\\times 1) + (3\\times 3)+(-1\\times 2) = 11.$$"
   ]
  },
  {
   "cell_type": "code",
   "execution_count": 31,
   "metadata": {},
   "outputs": [
    {
     "name": "stdout",
     "output_type": "stream",
     "text": [
      "a = [ 4  3 -1]\n",
      "b = [1 3 2]\n",
      "a.b = 11\n"
     ]
    }
   ],
   "source": [
    "# Creates arrays/vectors a and b\n",
    "a = np.array([4,3,-1])\n",
    "print(\"a =\",a)\n",
    "\n",
    "b = np.array([1,3,2])\n",
    "print(\"b =\",b)\n",
    "\n",
    "# Dot product between the two vectors\n",
    "print(\"a.b =\", np.dot(a,b))"
   ]
  },
  {
   "cell_type": "markdown",
   "metadata": {},
   "source": [
    "### Matrix Multiplication \n",
    "Matrix multiplication is in effect a dot product between two matrices and so uses ````np.dot````. Matrix multiplication for a matrix **A** and **B** works as follows: $$ \\textbf{A} \\textbf{B} = \\sum_{j} a_{ij} b_{jk} $$ $$ \\begin{pmatrix} a_{11} & a_{12} \\\\ a_{21} & a_{22} \\end{pmatrix} \\begin{pmatrix} b_{11} & b_{12} \\\\ b_{21} & b_{22} \\end{pmatrix} = \\begin{pmatrix} a_{11}b_{11}+a_{12}b_{21} & a_{11}b_{12}+a_{12}b_{22} \\\\ a_{21}b_{11}+a_{22}b_{21} & a_{21}b_{12}+a_{22}b_{22} \\end{pmatrix} $$ $$ \\begin{pmatrix} 4 & 0 \\\\ 0 & 2 \\end{pmatrix} \\begin{pmatrix} 0 & 1 \\\\ 3 & 2 \\end{pmatrix} = \\begin{pmatrix} (4\\times 0)+(0\\times 3) & (4\\times 1)+(0\\times 2) \\\\ (0\\times 0)+(2\\times 3) & (0\\times 1)+(2\\times 2) \\end{pmatrix} = \\begin{pmatrix} 0 & 4 \\\\ 6 & 4 \\end{pmatrix}$$"
   ]
  },
  {
   "cell_type": "code",
   "execution_count": 32,
   "metadata": {},
   "outputs": [
    {
     "name": "stdout",
     "output_type": "stream",
     "text": [
      "[[4 0]\n",
      " [0 2]]\n",
      "[[0 1]\n",
      " [3 2]]\n",
      "[[0 4]\n",
      " [6 4]]\n"
     ]
    }
   ],
   "source": [
    "# Creates arrays/vectors a and b\n",
    "A = np.array([[4,0],[0,2]])\n",
    "print(A)\n",
    "\n",
    "B = np.array([[0,1],[3,2]])\n",
    "print(B)\n",
    "\n",
    "# Dot product between the two vectors\n",
    "print(np.dot(A,B))"
   ]
  },
  {
   "cell_type": "markdown",
   "metadata": {},
   "source": [
    "### Vector/Cross Product \n",
    "The vector product between two vectors is defined as: $$\\begin{pmatrix} a_1 \\\\ a_2 \\\\a_3 \\end{pmatrix} \\times \\begin{pmatrix} b_1 \\\\ b_2 \\\\b_3 \\end{pmatrix} = \\begin{pmatrix} a_2 b_3 - a_3 b_2 \\\\ a_3 b_1 - a_2 b_1 \\\\ a_1 b_2 - a_2 b_1 \\end{pmatrix}, $$ $$\\begin{pmatrix} 1 \\\\ 0 \\\\0 \\end{pmatrix} \\times \\begin{pmatrix} 0 \\\\ 1 \\\\ 0 \\end{pmatrix} = \\begin{pmatrix} (0\\times 0) - (0\\times 1) \\\\ (0\\times 0) - (0\\times 0) \\\\ (1\\times 1) - (0\\times 0) \\end{pmatrix} = \\begin{pmatrix} 0 \\\\ 0 \\\\ 1 \\end{pmatrix}. $$"
   ]
  },
  {
   "cell_type": "code",
   "execution_count": 33,
   "metadata": {},
   "outputs": [
    {
     "name": "stdout",
     "output_type": "stream",
     "text": [
      "a = [1 0 0]\n",
      "b = [0 1 0]\n",
      "a x b = [0 0 1]\n"
     ]
    }
   ],
   "source": [
    "# Creates arrays/vectors a and b\n",
    "a = np.array([1,0,0])\n",
    "print(\"a =\",a)\n",
    "\n",
    "b = np.array([0,1,0])\n",
    "print(\"b =\",b)\n",
    "\n",
    "# Cross product between the two vectors\n",
    "print(\"a x b =\", np.cross(a,b))"
   ]
  },
  {
   "cell_type": "markdown",
   "metadata": {},
   "source": [
    "### Tensor/Outer Product\n",
    "The tensor/outer product has between two vectors is defined below: $$ \\textbf{a}\\otimes\\textbf{b}=a_i b_j = c_{ij} $$\n",
    "$$ \\begin{pmatrix} a_1 \\\\ a_2 \\\\ a_3 \\end{pmatrix} \\otimes \\begin{pmatrix} b_1 \\\\ b_2 \\\\ b_3 \\end{pmatrix} = \\begin{pmatrix} a_1 b_1 & a_1 b_2 & a_1 b_3 \\\\ a_2 b_1 & a_2 b_2 & a_2 b_3 \\\\ a_3 b_1 & a_3 b_2 & a_3 b_3 \\end{pmatrix} $$ $$ \\begin{pmatrix} 0 \\\\ 2 \\\\ 1 \\end{pmatrix} \\otimes \\begin{pmatrix} 5 \\\\ 0 \\\\ 1 \\end{pmatrix} = \\begin{pmatrix} 0\\times 5 & 0\\times 0 & 0\\times 1 \\\\ 2\\times 5 & 2\\times 0 & 2\\times 1 \\\\ 1\\times 5 & 1\\times 0 & 1\\times 1  \\end{pmatrix}  = \\begin{pmatrix} 0 & 0 & 0 \\\\ 10 & 0 & 2 \\\\ 5 & 0 & 1 \\end{pmatrix} $$ "
   ]
  },
  {
   "cell_type": "code",
   "execution_count": 34,
   "metadata": {},
   "outputs": [
    {
     "name": "stdout",
     "output_type": "stream",
     "text": [
      "a = [0 2 1]\n",
      "b = [5 0 1]\n",
      "[[ 0  0  0]\n",
      " [10  0  2]\n",
      " [ 5  0  1]]\n"
     ]
    }
   ],
   "source": [
    "# Creates arrays/vectors a and b\n",
    "a = np.array([0,2,1])\n",
    "print(\"a =\",a)\n",
    "\n",
    "b = np.array([5,0,1])\n",
    "print(\"b =\",b)\n",
    "\n",
    "# Outer product between the two vectors\n",
    "print(np.outer(a,b))"
   ]
  },
  {
   "cell_type": "markdown",
   "metadata": {},
   "source": [
    "### Matrix Inversion\n",
    "One can find the inverse of a matrix as follows."
   ]
  },
  {
   "cell_type": "code",
   "execution_count": 35,
   "metadata": {},
   "outputs": [
    {
     "name": "stdout",
     "output_type": "stream",
     "text": [
      "[[ 0  1]\n",
      " [-1  0]]\n",
      "[[-0. -1.]\n",
      " [ 1.  0.]]\n"
     ]
    }
   ],
   "source": [
    "# Creates an matrix \n",
    "x = np.array([[0,1],[-1,0]])\n",
    "print(x)\n",
    "\n",
    "# Inverses the matrix\n",
    "print(np.linalg.inv(x))"
   ]
  },
  {
   "cell_type": "markdown",
   "metadata": {},
   "source": [
    "### Eigenvalues \n",
    "The eigenvalues of a matrix may be found as follows:"
   ]
  },
  {
   "cell_type": "code",
   "execution_count": 36,
   "metadata": {},
   "outputs": [
    {
     "name": "stdout",
     "output_type": "stream",
     "text": [
      "[[0.+0.j 1.+0.j 2.+0.j]\n",
      " [0.+1.j 1.+1.j 0.+0.j]\n",
      " [0.+2.j 0.+0.j 2.+2.j]]\n",
      "[-0.93853719-0.93853719j  2.79483214+2.79483214j  1.14370505+1.14370505j]\n"
     ]
    }
   ],
   "source": [
    "# Creates a matrix \n",
    "x = np.array([[0,1,2],[1j,1+1j,0],[2j,0,2+2j]])\n",
    "print(x)\n",
    "\n",
    "print(np.linalg.eigvals(x))"
   ]
  },
  {
   "cell_type": "markdown",
   "metadata": {},
   "source": [
    "These are just a few examples of what can be done with NumPy and there are many more not covered in the workshops. If you ever want to look for a function for a mathematical operation not covered here you can always try searching it online. If NumPy doesn't have it you may need to look at another package like SciPy or simply code it yourself."
   ]
  }
 ],
 "metadata": {
  "kernelspec": {
   "display_name": "Python 3",
   "language": "python",
   "name": "python3"
  },
  "language_info": {
   "codemirror_mode": {
    "name": "ipython",
    "version": 3
   },
   "file_extension": ".py",
   "mimetype": "text/x-python",
   "name": "python",
   "nbconvert_exporter": "python",
   "pygments_lexer": "ipython3",
   "version": "3.8.8"
  }
 },
 "nbformat": 4,
 "nbformat_minor": 2
}

{
 "cells": [
  {
   "cell_type": "markdown",
   "metadata": {},
   "source": [
    "## Data Science Society Workshop 3: Numpy Solutions\n",
    "Run this code cell before attempting the problems!"
   ]
  },
  {
   "cell_type": "code",
   "execution_count": 20,
   "metadata": {},
   "outputs": [],
   "source": [
    "# Imports Numpy module\n",
    "import numpy as np"
   ]
  },
  {
   "cell_type": "markdown",
   "metadata": {},
   "source": [
    "#### 1) Debug array generation\n"
   ]
  },
  {
   "cell_type": "code",
   "execution_count": 21,
   "metadata": {},
   "outputs": [
    {
     "name": "stdout",
     "output_type": "stream",
     "text": [
      "[0 4 8 5]\n",
      "[ 0.   0.1  0.2  0.3  0.4  0.5  0.6  0.7  0.8  0.9  1.   1.1  1.2  1.3\n",
      "  1.4  1.5  1.6  1.7  1.8  1.9  2.   2.1  2.2  2.3  2.4  2.5  2.6  2.7\n",
      "  2.8  2.9  3.   3.1  3.2  3.3  3.4  3.5  3.6  3.7  3.8  3.9  4.   4.1\n",
      "  4.2  4.3  4.4  4.5  4.6  4.7  4.8  4.9  5.   5.1  5.2  5.3  5.4  5.5\n",
      "  5.6  5.7  5.8  5.9  6.   6.1  6.2  6.3  6.4  6.5  6.6  6.7  6.8  6.9\n",
      "  7.   7.1  7.2  7.3  7.4  7.5  7.6  7.7  7.8  7.9  8.   8.1  8.2  8.3\n",
      "  8.4  8.5  8.6  8.7  8.8  8.9  9.   9.1  9.2  9.3  9.4  9.5  9.6  9.7\n",
      "  9.8  9.9 10. ]\n",
      "[[0. 0. 0. 0.]\n",
      " [0. 0. 0. 0.]\n",
      " [0. 0. 0. 0.]\n",
      " [0. 0. 0. 0.]]\n"
     ]
    },
    {
     "data": {
      "text/plain": [
       "'Note: We could use **np.linspace(0,10,101)** for the second array but \\nif you want a specific spacing **arange** is probably more ideal.\\nIf you want a specific number of points **linspace** is probably the best choice.'"
      ]
     },
     "execution_count": 21,
     "metadata": {},
     "output_type": "execute_result"
    }
   ],
   "source": [
    "## SOLUTION CODE CELL\n",
    "# Generates an array [0 4 8 5]\n",
    "x = np.array([0,4,8,5])\n",
    "print(x)\n",
    "\n",
    "# Generates array with spacing 0.1 and values ranging from 0 to 10 \n",
    "x = np.arange(0,10.1,0.1)\n",
    "print(x)\n",
    "\n",
    "# Generates a 4x4 array of zeros \n",
    "x = np.zeros((4,4))\n",
    "print(x)\n",
    "\n",
    "'''Note: We could use **np.linspace(0,10,101)** for the second array but \n",
    "if you want a specific spacing **arange** is probably more ideal.\n",
    "If you want a specific number of points **linspace** is probably the best choice.'''"
   ]
  },
  {
   "cell_type": "markdown",
   "metadata": {},
   "source": [
    "#### 2) Generating arrays"
   ]
  },
  {
   "cell_type": "code",
   "execution_count": 6,
   "metadata": {},
   "outputs": [
    {
     "name": "stdout",
     "output_type": "stream",
     "text": [
      "[ 0.1  1.   1.9  2.8  3.7  4.6  5.5  6.4  7.3  8.2  9.1 10. ]\n",
      "[1 2 3 4 5 6 7 8 9]\n",
      "[[0. 0. 0. 0. 0.]\n",
      " [0. 0. 0. 0. 0.]\n",
      " [0. 0. 0. 0. 0.]\n",
      " [0. 0. 0. 0. 0.]\n",
      " [0. 0. 0. 0. 0.]\n",
      " [0. 0. 0. 0. 0.]\n",
      " [0. 0. 0. 0. 0.]]\n",
      "[[1 0 0]\n",
      " [0 1 0]\n",
      " [0 0 1]]\n"
     ]
    }
   ],
   "source": [
    "## SOLUTION CODE CELL\n",
    "\n",
    "# 1.\n",
    "print(np.linspace(0.1,10,12))\n",
    "\n",
    "# 2.\n",
    "print(np.arange(1,10))\n",
    "\n",
    "# 3.\n",
    "print(np.zeros((7,5)))\n",
    "\n",
    "# 4.\n",
    "print(np.array([[1,0,0],[0,1,0],[0,0,1]]))\n"
   ]
  },
  {
   "cell_type": "markdown",
   "metadata": {},
   "source": [
    "#### 3) Array Slicing "
   ]
  },
  {
   "cell_type": "code",
   "execution_count": null,
   "metadata": {},
   "outputs": [],
   "source": [
    "## SETUP CODE CELL DO NOT CHANGE \n",
    "# Generates an array from list\n",
    "x = np.array([2,7,9,3,6])\n",
    "print(x)\n",
    "\n",
    "# Generates an array from lists\n",
    "y = np.array([[8,3,2],[1,4,9],[5,3,2]])\n",
    "print(y)"
   ]
  },
  {
   "cell_type": "code",
   "execution_count": null,
   "metadata": {},
   "outputs": [],
   "source": [
    "## SOLUTION CODE CELL\n",
    "# Prints 1st value of array x\n",
    "print(x[0])\n",
    "\n",
    "# Prints 2nd to last value of array x\n",
    "print(x[2:])\n",
    "\n",
    "# Prints second column of array y\n",
    "print(y[:,1])\n",
    "\n",
    "# Prints second diagonal value of array y\n",
    "print(y[1,1])"
   ]
  },
  {
   "cell_type": "markdown",
   "metadata": {},
   "source": [
    "#### 4) Slicing"
   ]
  },
  {
   "cell_type": "code",
   "execution_count": 11,
   "metadata": {},
   "outputs": [
    {
     "name": "stdout",
     "output_type": "stream",
     "text": [
      "Question 1:\n",
      "1\n",
      "5\n",
      "0\n",
      "Question 2:\n",
      "[[5 0]\n",
      " [2 0]]\n"
     ]
    }
   ],
   "source": [
    "## SOLUTION CODE CELL\n",
    "x = np.array([[1,0,3],[4,5,0],[9,2,0]])\n",
    "print(\"Question 1:\")\n",
    "\n",
    "for i in range(0,3):\n",
    "    print(x[i,i])\n",
    "\n",
    "print(\"Question 2:\")\n",
    "\n",
    "print(x[1:3, 1:])\n"
   ]
  },
  {
   "cell_type": "markdown",
   "metadata": {},
   "source": [
    "#### 5) Modifying Your _1darray_"
   ]
  },
  {
   "cell_type": "code",
   "execution_count": 15,
   "metadata": {},
   "outputs": [
    {
     "name": "stdout",
     "output_type": "stream",
     "text": [
      "[1. 0. 1. 0. 1. 0. 1. 0. 1. 0. 1. 0. 1. 0. 1. 0. 1. 0. 1. 0. 1. 0. 1. 0.\n",
      " 1. 0. 1. 0. 1. 0. 1. 0. 1. 0. 1. 0. 1. 0. 1. 0. 1. 0. 1. 0. 1. 0. 1. 0.\n",
      " 1. 0.]\n"
     ]
    }
   ],
   "source": [
    "## SOLUTION CODE CELL\n",
    "x = np.ones(50)\n",
    "\n",
    "for i in range(0,len(x)):\n",
    "    if i % 2 != 0:\n",
    "        x[i] = 0\n",
    "print(x)\n"
   ]
  },
  {
   "cell_type": "markdown",
   "metadata": {},
   "source": [
    "#### 6) Modifying Your _2darray_"
   ]
  },
  {
   "cell_type": "code",
   "execution_count": 18,
   "metadata": {},
   "outputs": [
    {
     "name": "stdout",
     "output_type": "stream",
     "text": [
      "[[1. 0. 0. 0. 0. 0. 0. 0. 0. 0.]\n",
      " [0. 1. 0. 0. 0. 0. 0. 0. 0. 0.]\n",
      " [0. 0. 1. 0. 0. 0. 0. 0. 0. 0.]\n",
      " [0. 0. 0. 1. 0. 0. 0. 0. 0. 0.]\n",
      " [0. 0. 0. 0. 1. 0. 0. 0. 0. 0.]\n",
      " [0. 0. 0. 0. 0. 1. 0. 0. 0. 0.]\n",
      " [0. 0. 0. 0. 0. 0. 1. 0. 0. 0.]\n",
      " [0. 0. 0. 0. 0. 0. 0. 1. 0. 0.]\n",
      " [0. 0. 0. 0. 0. 0. 0. 0. 1. 0.]\n",
      " [0. 0. 0. 0. 0. 0. 0. 0. 0. 1.]]\n"
     ]
    }
   ],
   "source": [
    "## SOLUTION CODE CELL\n",
    "x = np.zeros((10,10))\n",
    "\n",
    "for i in range(0,10):\n",
    "    x[i,i] = 1\n",
    "print(x)\n"
   ]
  },
  {
   "cell_type": "markdown",
   "metadata": {},
   "source": [
    "#### 7) Array Functions"
   ]
  },
  {
   "cell_type": "code",
   "execution_count": 12,
   "metadata": {},
   "outputs": [
    {
     "name": "stdout",
     "output_type": "stream",
     "text": [
      "[ 2.  4.  6.  8. 10. 12. 14. 16. 18. 20.]\n",
      "[22. 24. 26. 28. 30. 32. 34. 36. 38. 40.]\n"
     ]
    }
   ],
   "source": [
    "## SETUP CODE CELL DO NOT CHANGE\n",
    "# Generates an array of all even numbers from 2 to 20\n",
    "x = np.linspace(2,20,10)\n",
    "print(x)\n",
    "\n",
    "# Generates an array of all even numbers from 22 to 40\n",
    "y = np.linspace(22,40,10)\n",
    "print(y)"
   ]
  },
  {
   "cell_type": "code",
   "execution_count": null,
   "metadata": {},
   "outputs": [],
   "source": [
    "## SOLUTION CODE CELL\n",
    "# Redefines x as array shifted to the left by 2\n",
    "x = np.roll(x,-2)\n",
    "print(x)\n",
    "\n",
    "# Merges the specified arrays into a new array\n",
    "z = np.concatenate([y,x,y])\n",
    "print(z)"
   ]
  },
  {
   "cell_type": "markdown",
   "metadata": {},
   "source": [
    "#### 8) Redefining Array Values"
   ]
  },
  {
   "cell_type": "code",
   "execution_count": 19,
   "metadata": {},
   "outputs": [
    {
     "name": "stdout",
     "output_type": "stream",
     "text": [
      "[[0. 0. 0. 0. 0. 0. 0. 0. 0. 0.]\n",
      " [0. 0. 0. 0. 0. 0. 0. 0. 0. 0.]\n",
      " [0. 0. 0. 0. 0. 0. 0. 0. 0. 0.]\n",
      " [0. 0. 0. 0. 0. 0. 0. 0. 0. 0.]\n",
      " [0. 0. 0. 0. 0. 0. 0. 0. 0. 0.]\n",
      " [0. 0. 0. 0. 0. 0. 0. 0. 0. 0.]\n",
      " [0. 0. 0. 0. 0. 0. 0. 0. 0. 0.]\n",
      " [0. 0. 0. 0. 0. 0. 0. 0. 0. 0.]\n",
      " [0. 0. 0. 0. 0. 0. 0. 0. 0. 0.]\n",
      " [0. 0. 0. 0. 0. 0. 0. 0. 0. 0.]]\n"
     ]
    }
   ],
   "source": [
    "## SETUP CODE CELL DO NOT CHANGE\n",
    "# Creating a 10x10 array of zeros\n",
    "x = np.zeros((10,10))\n",
    "print(x)"
   ]
  },
  {
   "cell_type": "markdown",
   "metadata": {},
   "source": [
    "If you have sorted the code correctly then all values in the first row will be $0$, $1$ in the second, $2$ in the third and so forth."
   ]
  },
  {
   "cell_type": "code",
   "execution_count": 14,
   "metadata": {},
   "outputs": [
    {
     "name": "stdout",
     "output_type": "stream",
     "text": [
      "[[0. 0. 0. 0. 0. 0. 0. 0. 0. 0.]\n",
      " [1. 1. 1. 1. 1. 1. 1. 1. 1. 1.]\n",
      " [2. 2. 2. 2. 2. 2. 2. 2. 2. 2.]\n",
      " [3. 3. 3. 3. 3. 3. 3. 3. 3. 3.]\n",
      " [4. 4. 4. 4. 4. 4. 4. 4. 4. 4.]\n",
      " [5. 5. 5. 5. 5. 5. 5. 5. 5. 5.]\n",
      " [6. 6. 6. 6. 6. 6. 6. 6. 6. 6.]\n",
      " [7. 7. 7. 7. 7. 7. 7. 7. 7. 7.]\n",
      " [8. 8. 8. 8. 8. 8. 8. 8. 8. 8.]\n",
      " [9. 9. 9. 9. 9. 9. 9. 9. 9. 9.]]\n"
     ]
    }
   ],
   "source": [
    "## SOLUTION CODE CELL\n",
    "# Loop over all rows \n",
    "for i in range(len(x)):\n",
    "    # Redefines the current array value as the row index\n",
    "    x[i] = i \n",
    "\n",
    "# Outputs x\n",
    "print(x)"
   ]
  },
  {
   "cell_type": "markdown",
   "metadata": {},
   "source": [
    "#### 9) Generating random numbers"
   ]
  },
  {
   "cell_type": "code",
   "execution_count": 23,
   "metadata": {},
   "outputs": [
    {
     "data": {
      "text/plain": [
       "array([ 2.74020955,  3.02012511,  5.45690313, 12.76878967, 14.19223716,\n",
       "       10.86705529, 13.9805217 ,  8.09752604,  6.55795989, 13.56435869])"
      ]
     },
     "execution_count": 23,
     "metadata": {},
     "output_type": "execute_result"
    }
   ],
   "source": [
    "## SOLUTION CODE CELL\n",
    "\n",
    "15 * np.random.random(10)\n"
   ]
  },
  {
   "cell_type": "markdown",
   "metadata": {},
   "source": [
    "### Coding From Scratch\n",
    "#### 1) Generating Arrays\n",
    "In the code cell below define and print a set of arrays defined ````x````, ````y```` and ````z````. The array ````x```` should be take the form [10 12 9 2 20], ````y```` should have $101$ values from $10$ to $20$ inclusive and ```z``` should be a $2\\times3$ array of ones."
   ]
  },
  {
   "cell_type": "code",
   "execution_count": null,
   "metadata": {},
   "outputs": [],
   "source": [
    "## SOLUTION CODE CELL\n",
    "# Generates an array x as [10 12 9 2 20]\n",
    "x = np.array([10,12,9,2,20])\n",
    "print(x)\n",
    "\n",
    "# Generates an array y with 101 values from 10 to 20 inclusive\n",
    "y = np.linspace(10,20,101)\n",
    "print(y)\n",
    "\n",
    "# Generates an array z as a 2x3 array of ones\n",
    "z = np.ones((2,3))\n",
    "print(z)"
   ]
  },
  {
   "cell_type": "markdown",
   "metadata": {},
   "source": [
    "#### 2) Array Functions\n",
    "Using the available Numpy functions on array ````x```` from problem $1$, find the average and the standard deviation of the value in this array. Redefine ````x```` as an array with all these values sorted in numerical order."
   ]
  },
  {
   "cell_type": "code",
   "execution_count": null,
   "metadata": {},
   "outputs": [],
   "source": [
    "## SOLUTION CODE CELL\n",
    "# Average of values in array x\n",
    "print(np.mean(x))\n",
    "\n",
    "# Standard deviation of values in array x\n",
    "print(np.std(x))\n",
    "\n",
    "# Sorts values of x\n",
    "x = np.sort(x)\n",
    "print(x)"
   ]
  },
  {
   "cell_type": "markdown",
   "metadata": {},
   "source": [
    "#### 3) Redefining Array Variables\n",
    "Generate an array ````x```` to be a $10\\times10$ array of zeros. Redefine its diagonal components (from left to right) to equal one. Hint: You will likely require two loops along with a conditional statement that determines whether the current slice is a diagonal component. Think carefully about what this condition might be."
   ]
  },
  {
   "cell_type": "code",
   "execution_count": null,
   "metadata": {},
   "outputs": [],
   "source": [
    "## SOLUTION CODE CELL\n",
    "# Generates a 10x10 array of zeros\n",
    "x = np.zeros((10,10))\n",
    "\n",
    "# Loops over the rows of x\n",
    "for i in range(len(x)):\n",
    "    # Loops over the columns of x\n",
    "    for j in range(len(x)):\n",
    "        # Identifies whether component is on the diagonal\n",
    "        if i == j:\n",
    "            x[i,j] = 1\n",
    "\n",
    "print(x)    "
   ]
  },
  {
   "cell_type": "markdown",
   "metadata": {},
   "source": [
    "#### 4) Random Numbers\n",
    "The popular role-playing game Dungeons and Dragons utilises a variety of die with varying numbers of sides. For instance the d20 dice has 20 sides and a d10 has 10. Create a function that takes an integer as the argument. This integer specifies the number of sides the dice has. Your function should output a number that you could get by rolling the specified type of dice. Once you think your function works modify it so it creates an array of dice rolled values. The length of the array should be specifyed by an additional argument for your function. Take the average of these values to check if your function works as expected for an array of $1000$ values. In general the average for rolling a certain dice should be half the maximum value plus $0.5$, so $5.5$ for a d10 for example. You should get close to this value but will likely be off slightly. "
   ]
  },
  {
   "cell_type": "code",
   "execution_count": null,
   "metadata": {},
   "outputs": [],
   "source": [
    "## SOLUTION CODE CELL\n",
    "# Defines a dice rolling function\n",
    "def dice(x,n):\n",
    "    '''Function that rolls n dice with x sides'''\n",
    "    \n",
    "    # Rolls n dice with x sides\n",
    "    return np.random.randint(1,x+1,n)\n",
    "\n",
    "# Using the function to roll a d10 1000 times\n",
    "roll = dice(10,1000)\n",
    "\n",
    "# Average of all the rolls\n",
    "np.mean(roll)"
   ]
  },
  {
   "cell_type": "markdown",
   "metadata": {},
   "source": [
    "### Further Work (Optional)\n",
    "#### 1) Vectors and Matrices\n",
    "Given two vectors: $$ \\textbf{A} = \\begin{pmatrix} 1 \\\\ 2 \\\\ -1 \\end{pmatrix}, \\textbf{B} = \\begin{pmatrix} 4 \\\\ -1 \\\\ 5 \\end{pmatrix}. $$ Using Numpy find: $$\\textbf{A}\\cdot\\textbf{B}, $$ $$\\textbf{A}\\times\\textbf{B}, $$ $$\\textbf{A}\\otimes\\textbf{B}. $$ Find the eigenvalues resulting from the matrix that is the result of the outer product between the two vectors."
   ]
  },
  {
   "cell_type": "code",
   "execution_count": null,
   "metadata": {},
   "outputs": [],
   "source": [
    "## SOLUTION CODE CELL \n",
    "# Generating the vectors\n",
    "A = np.array([1,2,-1])\n",
    "B = np.array([4,-1,5])\n",
    "\n",
    "# Scalar product\n",
    "print(np.dot(A,B))\n",
    "\n",
    "# Vector product\n",
    "print(np.cross(A,B))\n",
    "\n",
    "# Tensor Product\n",
    "AB = np.outer(A,B)\n",
    "print(AB)\n",
    "\n",
    "# Eigenvalues of the matrix tensor product\n",
    "print(np.linalg.eigvals(AB))"
   ]
  },
  {
   "cell_type": "markdown",
   "metadata": {},
   "source": [
    "#### Levi-Civita Tensor (Optional x2)\n",
    "The Levi-Civita tensor is a 3rd order tensor defined such that:  $$ \\epsilon_{ijk} = \n",
    "    \\begin{cases}\n",
    "      0 & if \\>\\> i=j \\>\\> or \\>\\> j=k \\>\\> or \\>\\> i=k \\\\\n",
    "      1 & for \\>\\> even \\>\\> passes \\\\\n",
    "      -1 & for \\>\\> odd \\>\\> passes\n",
    "    \\end{cases}\n",
    "$$\n",
    "Even passes meaning if you wrote out the indices $i,j$ and $k$ out infinitely it would be equivalent to writing 1,2,3 out infinitely (for three dimensions at least). Odd passes mean the opposite is true provided none of the indices are equal as then $\\epsilon_{ijk}=0$. We can represent this three index structure as a 3D Numpy array. Generate such an array using loops and conditional statements. Start with a $3\\times3\\times3$ array of ones and turn the relevent values into zeros. Some of you're conditional statements will require multiple conditions so use ````and```` or ````or```` in such cases."
   ]
  },
  {
   "cell_type": "code",
   "execution_count": null,
   "metadata": {},
   "outputs": [],
   "source": [
    "## SOLUTION CODE CELL\n",
    "# Generates 3x3x3 array to store values\n",
    "levi_civita = np.ones((3,3,3))\n",
    "\n",
    "# Loop over all spatial dimensions\n",
    "for i in range(3):\n",
    "    for j in range(3):\n",
    "        for k in range(3):\n",
    "            # Any equal indexes returns zero\n",
    "            if i==j or i==k or j==k:\n",
    "                levi_civita[i,j,k] = 0\n",
    "            \n",
    "            # Any odd pass returns -1\n",
    "            if i == 1 and j == 0 and k == 2:\n",
    "                levi_civita[i,j,k] = -1\n",
    "            if i == 0 and j == 2 and k == 1:\n",
    "                levi_civita[i,j,k] = -1\n",
    "            if i == 2 and j == 1 and k == 0:\n",
    "                levi_civita[i,j,k] = -1\n",
    "            \n",
    "            # Since we have created an array of ones no need to cycle through even passes\n",
    "            \n",
    "print(levi_civita)"
   ]
  }
 ],
 "metadata": {
  "kernelspec": {
   "display_name": "Python 3",
   "language": "python",
   "name": "python3"
  },
  "language_info": {
   "codemirror_mode": {
    "name": "ipython",
    "version": 3
   },
   "file_extension": ".py",
   "mimetype": "text/x-python",
   "name": "python",
   "nbconvert_exporter": "python",
   "pygments_lexer": "ipython3",
   "version": "3.8.8"
  }
 },
 "nbformat": 4,
 "nbformat_minor": 2
}
